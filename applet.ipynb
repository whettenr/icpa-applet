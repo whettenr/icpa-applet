{
 "cells": [
  {
   "cell_type": "code",
   "execution_count": 7,
   "id": "7578af06",
   "metadata": {},
   "outputs": [],
   "source": [
    "import pandas as pd\n",
    "import numpy as np\n",
    "import ipywidgets as widgets\n",
    "import re\n",
    "from ipywidgets import interact, interactive, fixed, interact_manual, interactive_output\n",
    "from IPython.display import display\n"
   ]
  },
  {
   "cell_type": "code",
   "execution_count": 8,
   "id": "2943470d",
   "metadata": {},
   "outputs": [],
   "source": [
    "filename = 'all_text.csv'\n",
    "all_text = pd.read_csv(filename)\n",
    "all_text.token = all_text.token.apply(lambda x: x.strip(\"[]\").replace(\"'\",\"\").split(\", \"))\n"
   ]
  },
  {
   "cell_type": "code",
   "execution_count": 9,
   "id": "99423fc6",
   "metadata": {},
   "outputs": [],
   "source": [
    "def find_word_with_context(document=all_text.filename, search=\"pain\", char_bef=50, char_aft=50):\n",
    "    if search == \"\":\n",
    "        return \"Enter search word above.\"\n",
    "    doc = all_text.index[all_text.filename == document]\n",
    "    words = all_text.text[doc].reset_index().text[0]\n",
    "    res = []\n",
    "    for m in re.finditer(search, words):\n",
    "        word_w_context = words[m.start()-char_bef: m.end()+char_aft]\n",
    "        if word_w_context != \"\":\n",
    "            res.append(word_w_context.replace(\"\\n\", \"\"))\n",
    "    if len(res) == 0:\n",
    "        return \"No results could be found.\"\n",
    "    return res"
   ]
  },
  {
   "cell_type": "code",
   "execution_count": 10,
   "id": "27f02e07",
   "metadata": {},
   "outputs": [
    {
     "data": {
      "application/vnd.jupyter.widget-view+json": {
       "model_id": "fab04222047f4901863b6111cb45f0c5",
       "version_major": 2,
       "version_minor": 0
      },
      "text/plain": [
       "interactive(children=(Dropdown(description='document', options=('C1', 'C2', 'C3', 'C4', 'C5', 'C6', 'C7', 'C8'…"
      ]
     },
     "metadata": {},
     "output_type": "display_data"
    }
   ],
   "source": [
    "interact(find_word_with_context, search_word=\"pelvic\");"
   ]
  },
  {
   "cell_type": "code",
   "execution_count": null,
   "id": "7ee8845e",
   "metadata": {},
   "outputs": [],
   "source": []
  }
 ],
 "metadata": {
  "kernelspec": {
   "display_name": "Python 3 (ipykernel)",
   "language": "python",
   "name": "python3"
  },
  "language_info": {
   "codemirror_mode": {
    "name": "ipython",
    "version": 3
   },
   "file_extension": ".py",
   "mimetype": "text/x-python",
   "name": "python",
   "nbconvert_exporter": "python",
   "pygments_lexer": "ipython3",
   "version": "3.9.6"
  }
 },
 "nbformat": 4,
 "nbformat_minor": 5
}
