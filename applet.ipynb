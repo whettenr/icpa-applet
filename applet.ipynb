{
 "cells": [
  {
   "cell_type": "code",
   "execution_count": 1,
   "id": "7578af06",
   "metadata": {},
   "outputs": [],
   "source": [
    "import pandas as pd\n",
    "import numpy as np\n",
    "import ipywidgets as widgets\n",
    "import ipyvuetify as v\n",
    "\n",
    "import re\n",
    "from collections import Counter\n",
    "from ipywidgets import interact, interactive, fixed, interact_manual, interactive_output\n",
    "from IPython.display import display, display_html\n",
    "from itertools import chain,cycle\n",
    "from nltk.util import ngrams\n",
    "\n"
   ]
  },
  {
   "cell_type": "code",
   "execution_count": 2,
   "id": "2943470d",
   "metadata": {},
   "outputs": [],
   "source": [
    "filename = 'all_text.csv'\n",
    "all_text = pd.read_csv(filename)\n",
    "all_text.token = all_text.token.apply(lambda x: x.strip(\"[]\").replace(\"'\",\"\").split(\", \"))\n"
   ]
  },
  {
   "cell_type": "code",
   "execution_count": 3,
   "id": "fb9bfff4",
   "metadata": {},
   "outputs": [],
   "source": [
    "def display_side_by_side(*args, titles=cycle([''])):\n",
    "    html_str=''\n",
    "    for df,title in zip(args, chain(titles,cycle(['</br>'])) ):\n",
    "        html_str+='<th style=\"text-align:center\"><td style=\"vertical-align:top\">'\n",
    "        html_str+=f'<h2>{title}</h2>'\n",
    "        html_str+=df.to_html().replace('table','table style=\"display:inline\"')\n",
    "        html_str+='</td></th>'\n",
    "    display_html(html_str,raw=True)"
   ]
  },
  {
   "cell_type": "code",
   "execution_count": 4,
   "id": "2d213a9a",
   "metadata": {},
   "outputs": [],
   "source": [
    "def listOfTuples(l1, l2):\n",
    "    return list(map(lambda x, y:(x,y), l1, l2))\n",
    "filename_index = listOfTuples(all_text.filename, all_text.index.tolist())\n",
    "\n",
    "w = widgets.SelectMultiple(\n",
    "    options=filename_index,\n",
    "    value=[0],\n",
    "    description='Document',\n",
    "    disabled=False\n",
    ")"
   ]
  },
  {
   "cell_type": "code",
   "execution_count": 15,
   "id": "bc7f1306",
   "metadata": {},
   "outputs": [],
   "source": [
    "def n_gram_word_count(files = [0], top_x = 10, x_grams = 2):\n",
    "    titles = []\n",
    "    charts = []\n",
    "    for ind in files:\n",
    "        x_grams_groups = ngrams(all_text.token[ind], x_grams)\n",
    "        c = Counter(x_grams_groups) \n",
    "        gram_count = pd.DataFrame(c.items(), columns=['word','count'])\n",
    "        wc_top = gram_count.sort_values(by='count',ascending=False).head(top_x)\n",
    "        titles.append(all_text.filename[ind])\n",
    "        charts.append(wc_top)\n",
    "        \n",
    "    display_side_by_side(*charts, titles=titles)"
   ]
  },
  {
   "cell_type": "code",
   "execution_count": 16,
   "id": "a48edc94",
   "metadata": {},
   "outputs": [],
   "source": [
    "top_slider = widgets.IntSlider(description='Top #:', value=7, min=1, max=25)\n",
    "gram_slider = widgets.IntSlider(description='Group count:', value=2, min=1, max=5)\n",
    "ui_grams = widgets.VBox([w, top_slider, gram_slider])\n",
    "out_ngrams = widgets.interactive_output(n_gram_word_count, {'files': w, 'top_x': top_slider, 'x_grams': gram_slider})"
   ]
  },
  {
   "cell_type": "markdown",
   "id": "57ceb27e",
   "metadata": {},
   "source": [
    "## Word count \n",
    "### This excludes stop words\n",
    "\n",
    "The top # slider changes the total number of rows displayed.\n",
    "The group count changes the number of words per row.\n"
   ]
  },
  {
   "cell_type": "code",
   "execution_count": 17,
   "id": "1cc27942",
   "metadata": {},
   "outputs": [
    {
     "name": "stdout",
     "output_type": "stream",
     "text": [
      "Hold down the ctl button and click to select multiple documents from the list.\n"
     ]
    },
    {
     "data": {
      "application/vnd.jupyter.widget-view+json": {
       "model_id": "04d4849739db40acb75b1f6a6b34838d",
       "version_major": 2,
       "version_minor": 0
      },
      "text/plain": [
       "VBox(children=(SelectMultiple(description='Document', index=(0,), options=(('C1', 0), ('C2', 1), ('C3', 2), ('…"
      ]
     },
     "metadata": {},
     "output_type": "display_data"
    },
    {
     "data": {
      "application/vnd.jupyter.widget-view+json": {
       "model_id": "da1be677305040b8830fd2d90081c74d",
       "version_major": 2,
       "version_minor": 0
      },
      "text/plain": [
       "Output(outputs=({'output_type': 'display_data', 'data': {'text/html': '<th style=\"text-align:center\"><td style…"
      ]
     },
     "metadata": {},
     "output_type": "display_data"
    }
   ],
   "source": [
    "print(\"Hold down the ctl button and click to select multiple documents from the list.\")\n",
    "display(ui_grams, out_ngrams)"
   ]
  },
  {
   "cell_type": "code",
   "execution_count": 8,
   "id": "99423fc6",
   "metadata": {},
   "outputs": [],
   "source": [
    "def find_word_with_context(document= 1, search=\"pain\", char_bef=50, char_aft=50):\n",
    "    if search == \"\":\n",
    "        return \"Enter search word above.\"\n",
    "#     doc = all_text.index[all_text.filename == document]\n",
    "    words = all_text.text[document]\n",
    "    res = []\n",
    "    for m in re.finditer(search, words):\n",
    "        word_w_context = words[m.start()-char_bef: m.end()+char_aft]\n",
    "        if word_w_context != \"\":\n",
    "            res.append(word_w_context.replace(\"\\n\", \"\"))\n",
    "    if len(res) == 0:\n",
    "        return \"No results could be found.\"\n",
    "    return res"
   ]
  },
  {
   "cell_type": "code",
   "execution_count": 9,
   "id": "27f02e07",
   "metadata": {},
   "outputs": [],
   "source": [
    "def find_word_with_context(document=all_text.filename, search=\"pain\", char_bef=50, char_aft=50):\n",
    "    if search == \"\":\n",
    "        return \"Enter search word above.\"\n",
    "    doc = all_text.index[all_text.filename == document]\n",
    "    words = all_text.text[doc].reset_index().text[0]\n",
    "    res = []\n",
    "    for m in re.finditer(search, words):\n",
    "        word_w_context = words[m.start()-char_bef: m.end()+char_aft]\n",
    "        if word_w_context != \"\":\n",
    "            res.append(word_w_context.replace(\"\\n\", \"\"))\n",
    "    if len(res) == 0:\n",
    "        return \"No results could be found.\"\n",
    "    return res"
   ]
  },
  {
   "cell_type": "markdown",
   "id": "435ff5b1",
   "metadata": {},
   "source": [
    "## Word search \n",
    "### This excludes stop words\n",
    "\n",
    "The document selector is a dropdown with a list of all the files.\n",
    "The search box is a text box where you can type in a word.\n",
    "The char_bef and char_aft controls the number of characters before and after."
   ]
  },
  {
   "cell_type": "code",
   "execution_count": 10,
   "id": "1f8466c1",
   "metadata": {},
   "outputs": [
    {
     "data": {
      "application/vnd.jupyter.widget-view+json": {
       "model_id": "4e393c966d534058af892977a4ef25f2",
       "version_major": 2,
       "version_minor": 0
      },
      "text/plain": [
       "interactive(children=(Dropdown(description='document', options=('C1', 'C2', 'C3', 'C4', 'C5', 'C6', 'C7', 'C8'…"
      ]
     },
     "metadata": {},
     "output_type": "display_data"
    }
   ],
   "source": [
    "interact(find_word_with_context, search_word=\"pelvic\");\n"
   ]
  },
  {
   "cell_type": "code",
   "execution_count": null,
   "id": "5cf0d61c",
   "metadata": {},
   "outputs": [],
   "source": []
  }
 ],
 "metadata": {
  "kernelspec": {
   "display_name": "Python 3 (ipykernel)",
   "language": "python",
   "name": "python3"
  },
  "language_info": {
   "codemirror_mode": {
    "name": "ipython",
    "version": 3
   },
   "file_extension": ".py",
   "mimetype": "text/x-python",
   "name": "python",
   "nbconvert_exporter": "python",
   "pygments_lexer": "ipython3",
   "version": "3.9.6"
  }
 },
 "nbformat": 4,
 "nbformat_minor": 5
}
